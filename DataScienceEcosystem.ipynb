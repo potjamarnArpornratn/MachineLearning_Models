{
 "cells": [
  {
   "cell_type": "markdown",
   "id": "4ae8ad70-9e0f-42ef-b3b7-256c371b8e66",
   "metadata": {},
   "source": [
    "# Data Science Tools and Ecosystem"
   ]
  },
  {
   "cell_type": "markdown",
   "id": "ab6c224b-f462-4ae4-8d84-21fa867d52c8",
   "metadata": {},
   "source": [
    "**Objectives:**\n",
    "- List popular languages for Data Science\n",
    "- List commonly used libraries in Data Science\n",
    "- List Data Science Tools"
   ]
  },
  {
   "cell_type": "markdown",
   "id": "0030c9a0-cf4b-4b59-9166-329712efe5d6",
   "metadata": {},
   "source": [
    "In this notebook, Data Science Tools and Ecosystem are summarized."
   ]
  },
  {
   "cell_type": "markdown",
   "id": "7845b953-d378-498d-9c10-6a79086faa11",
   "metadata": {},
   "source": [
    "Some of the popular languages that Data Scientists use are:\n",
    "- Python\n",
    "- R\n",
    "- SQL\n",
    "- Java"
   ]
  },
  {
   "cell_type": "markdown",
   "id": "e99fe158-bcdf-4f4c-abe4-b49635de5a29",
   "metadata": {},
   "source": [
    "Some of the commonly used libraries used by Data Scientists include:\n",
    "* NumPy\n",
    "* Pandas\n",
    "* Matplotlib\n",
    "* Scikit-learn\n",
    "* TensorFlow"
   ]
  },
  {
   "cell_type": "markdown",
   "id": "443231cd-5d4d-433a-ba2b-06069ed6d0d6",
   "metadata": {},
   "source": [
    "| Data Science Tools |\n",
    "|--------------------|\n",
    "|  Python            |\n",
    "|  Jupyter Notebook  |\n",
    "|  RStudio           |"
   ]
  },
  {
   "cell_type": "markdown",
   "id": "902fc354-60eb-46a9-a9bb-7fa8ee279f49",
   "metadata": {},
   "source": [
    "### Below are a few examples of evaluating arithmetic expressions in Python"
   ]
  },
  {
   "cell_type": "code",
   "execution_count": 2,
   "id": "637171f6-e47c-4252-8d39-ba02408664f1",
   "metadata": {},
   "outputs": [
    {
     "data": {
      "text/plain": [
       "17"
      ]
     },
     "execution_count": 2,
     "metadata": {},
     "output_type": "execute_result"
    }
   ],
   "source": [
    "# This a simple arithmetic expression to mutiply then add integers.\n",
    "(3*4)+5"
   ]
  },
  {
   "cell_type": "code",
   "execution_count": 5,
   "id": "9114a1b8-d09f-44bb-8638-c4b80bee5a69",
   "metadata": {},
   "outputs": [
    {
     "data": {
      "text/plain": [
       "3.3333333333333335"
      ]
     },
     "execution_count": 5,
     "metadata": {},
     "output_type": "execute_result"
    }
   ],
   "source": [
    "# This will convert 200 minutes to hours by diving by 60\n",
    "200 / 60 "
   ]
  },
  {
   "cell_type": "markdown",
   "id": "cf0c50b8-2743-461e-8c4e-8b30c15c7967",
   "metadata": {},
   "source": [
    "## Author\n",
    "Potjamarn Arpornratn"
   ]
  },
  {
   "cell_type": "code",
   "execution_count": null,
   "id": "fc9b4a69-b317-4974-af6c-bb975c3b8aee",
   "metadata": {},
   "outputs": [],
   "source": []
  }
 ],
 "metadata": {
  "kernelspec": {
   "display_name": "Python 3 (ipykernel)",
   "language": "python",
   "name": "python3"
  },
  "language_info": {
   "codemirror_mode": {
    "name": "ipython",
    "version": 3
   },
   "file_extension": ".py",
   "mimetype": "text/x-python",
   "name": "python",
   "nbconvert_exporter": "python",
   "pygments_lexer": "ipython3",
   "version": "3.13.5"
  }
 },
 "nbformat": 4,
 "nbformat_minor": 5
}
